{
 "cells": [
  {
   "cell_type": "markdown",
   "metadata": {},
   "source": [
    "# Imports"
   ]
  },
  {
   "cell_type": "code",
   "execution_count": 2,
   "metadata": {},
   "outputs": [],
   "source": [
    "import os\n",
    "from dotenv import load_dotenv\n",
    "\n",
    "from openai import AsyncOpenAI\n",
    "from pydantic import BaseModel\n",
    "\n",
    "from utils.model_costs import ModelUsageAsync\n",
    "from utils.openai_calls import call_openai_structured"
   ]
  },
  {
   "cell_type": "code",
   "execution_count": 3,
   "metadata": {},
   "outputs": [],
   "source": [
    "load_dotenv() # .env should be in the root folder (sibling of this notebook)\n",
    "\n",
    "openai_client = AsyncOpenAI(\n",
    "    api_key=os.getenv(\"OPENAI_PROJECT_KEY\"),\n",
    ")"
   ]
  },
  {
   "cell_type": "markdown",
   "metadata": {},
   "source": [
    "# Using the utils"
   ]
  },
  {
   "cell_type": "code",
   "execution_count": 4,
   "metadata": {},
   "outputs": [],
   "source": [
    "source_text = \"\"\"\n",
    "In the bustling heart of New York City, hidden from ordinary eyes, lay the enchanting neighborhood of Eldergrove, concealed behind an ancient oak in Central Park. Only those with magical sight could see the shimmering gateway, guarded by the wise sorcerer, Professor Isadora Finch.\n",
    "\n",
    "Maya Torres, a young aspiring magician, recently moved to NYC with her family, unaware of her magical heritage. On her twelfth birthday, Maya received a mysterious invitation, instructing her to touch the oldest oak in Central Park at midnight. Skeptical yet curious, Maya did so and watched in awe as the tree transformed into a glowing portal.\n",
    "\n",
    "Inside Eldergrove, Maya discovered cobblestone streets bustling with magical beings: talking cats who owned bookstores, pixies selling enchanted pastries, and broomsticks zipping through the air delivering mail. Professor Finch greeted Maya warmly, revealing that her grandmother had once been a powerful magician and it was now Maya's turn to embrace her destiny.\n",
    "\n",
    "However, danger lurked nearby. A rogue wizard named Elias Grimwald sought to steal the Heartstone—a crystal that powered all magic in Eldergrove. If Elias succeeded, magic would vanish from the world forever. Maya joined forces with Professor Finch and Leo, a brave apprentice wizard, to protect the Heartstone.\n",
    "\n",
    "Together, they deciphered magical clues hidden around iconic NYC landmarks, from enchanted riddles at the Statue of Liberty to secret spells beneath the Brooklyn Bridge. After a thrilling chase through the underground tunnels of Grand Central Terminal, Maya confronted Elias atop the Empire State Building.\n",
    "\n",
    "Drawing courage from the legacy of her grandmother, Maya unleashed powerful magic she never knew she possessed, binding Elias and securing the Heartstone. Magic surged brightly once more throughout Eldergrove, and Maya knew her adventures were only beginning.\n",
    "\"\"\"\n",
    "\n",
    "questions = [\n",
    "    \"Where is the magical neighborhood of ElderGrove located?\",\n",
    "    \"How did Maya Torres discover she had magical abilities?\",\n",
    "    \"Who is Professor Isadora Finch, and what is her role in Eldergrove?\",\n",
    "    \"List three real NYC landmarks that were mentioned in the story as having magical significance.\"\n",
    "]"
   ]
  },
  {
   "cell_type": "code",
   "execution_count": 5,
   "metadata": {},
   "outputs": [],
   "source": [
    "QUESTION_ANSWERING_PROMPT = \"\"\"\n",
    "Task: The user has a list of queires that they would like answered based on a piece of source text. Your job is to answer each of their questions and cite the text that supports your answer.\n",
    "\n",
    "Output Format:\n",
    "For each question provide:\n",
    "- answer - a string holding your response\n",
    "- cited_text - a list of strings of cited text\n",
    "\n",
    "Input:\n",
    "User queries: {user_queries}\n",
    "\n",
    "Source text: {source_text}\n",
    "\"\"\""
   ]
  },
  {
   "cell_type": "code",
   "execution_count": 6,
   "metadata": {},
   "outputs": [
    {
     "name": "stdout",
     "output_type": "stream",
     "text": [
      "Tokens used: 4309\n",
      "Total cost: $0.017230400000000003\n"
     ]
    }
   ],
   "source": [
    "message_history = [\n",
    "    {\n",
    "        \"role\": \"system\",\n",
    "        \"content\": \"You are an expert in patent law critiquing a patent examiner's analysis from a non-final rejection\"\n",
    "    },\n",
    "    {\n",
    "        \"role\": \"user\",\n",
    "        \"content\": QUESTION_ANSWERING_PROMPT.format(\n",
    "            user_queries=questions,\n",
    "            source_text=source_text\n",
    "        )\n",
    "    }\n",
    "]\n",
    "\n",
    "llm_usage = ModelUsageAsync()\n",
    "\n",
    "model_response = await call_openai_structured(\n",
    "    openai_client=openai_client,\n",
    "    model=\"o4-mini\",\n",
    "    messages=message_history,\n",
    "    reasoning_effort=\"high\",\n",
    "    llm_usage=llm_usage\n",
    ")\n",
    "\n",
    "print(f\"Tokens used: {await llm_usage.get_tokens_used()}\")\n",
    "print(f\"Total cost: ${await llm_usage.get_cost()}\")\n"
   ]
  },
  {
   "cell_type": "code",
   "execution_count": 7,
   "metadata": {},
   "outputs": [
    {
     "name": "stdout",
     "output_type": "stream",
     "text": [
      "1. Where is the magical neighborhood of Eldergrove located?  \n",
      "- answer: \"It is hidden in the bustling heart of New York City, concealed behind an ancient oak in Central Park.\"  \n",
      "- cited_text:  \n",
      "  - \"In the bustling heart of New York City, hidden from ordinary eyes, lay the enchanting neighborhood of Eldergrove, concealed behind an ancient oak in Central Park.\"\n",
      "\n",
      "2. How did Maya Torres discover she had magical abilities?  \n",
      "- answer: \"She discovered her magical abilities when she confronted Elias Grimwald atop the Empire State Building and, drawing on her grandmother’s legacy, unleashed powerful magic she never knew she possessed.\"  \n",
      "- cited_text:  \n",
      "  - \"Drawing courage from the legacy of her grandmother, Maya unleashed powerful magic she never knew she possessed, binding Elias and securing the Heartstone.\"\n",
      "\n",
      "3. Who is Professor Isadora Finch, and what is her role in Eldergrove?  \n",
      "- answer: \"She is the wise sorcerer who guards the shimmering gateway to Eldergrove and serves as Maya’s mentor, guiding and protecting new magical arrivals.\"  \n",
      "- cited_text:  \n",
      "  - \"Only those with magical sight could see the shimmering gateway, guarded by the wise sorcerer, Professor Isadora Finch.\"  \n",
      "  - \"Professor Finch greeted Maya warmly, revealing that her grandmother had once been a powerful magician and it was now Maya's turn to embrace her destiny.\"\n",
      "\n",
      "4. List three real NYC landmarks that were mentioned in the story as having magical significance.  \n",
      "- answer: \"Statue of Liberty; Brooklyn Bridge; Grand Central Terminal.\"  \n",
      "- cited_text:  \n",
      "  - \"…from enchanted riddles at the Statue of Liberty to secret spells beneath the Brooklyn Bridge.\"  \n",
      "  - \"After a thrilling chase through the underground tunnels of Grand Central Terminal, Maya confronted Elias atop the Empire State Building.\"\n"
     ]
    }
   ],
   "source": [
    "question_answers_response = model_response.choices[0].message.content\n",
    "print(question_answers_response)"
   ]
  },
  {
   "cell_type": "code",
   "execution_count": 8,
   "metadata": {},
   "outputs": [],
   "source": [
    "class Answer(BaseModel):\n",
    "    question: str\n",
    "    answer: str\n",
    "    cited_text: list[str]\n",
    "\n",
    "class AllAnswers(BaseModel):\n",
    "    answers_list: list[Answer]\n",
    "\n",
    "FORMATTING_PROMPT = \"\"\"\n",
    "Task: An upstream model has answered some user questions. Your job is to format the response into a structured output.\n",
    "\n",
    "Formatting Instructions:\n",
    "For each question, provide:\n",
    "- question - a string holding the question that was asked\n",
    "- answer - a string holding your response\n",
    "- cited_text - a list of strings of cited text\n",
    "\n",
    "Input:\n",
    "Upstream model response: {upstream_model_response}\n",
    "\"\"\""
   ]
  },
  {
   "cell_type": "code",
   "execution_count": 9,
   "metadata": {},
   "outputs": [
    {
     "name": "stdout",
     "output_type": "stream",
     "text": [
      "Tokens used: 927\n",
      "Total cost: $0.003966\n"
     ]
    }
   ],
   "source": [
    "message_history = [\n",
    "    {\n",
    "        \"role\": \"system\",\n",
    "        \"content\": \"You are a meticulous proofreader\"\n",
    "    },\n",
    "    {\n",
    "        \"role\": \"user\",\n",
    "        \"content\": FORMATTING_PROMPT.format(\n",
    "            upstream_model_response=question_answers_response\n",
    "        )\n",
    "    }\n",
    "]\n",
    "\n",
    "llm_usage = ModelUsageAsync()\n",
    "\n",
    "formatted_response = await call_openai_structured(\n",
    "    openai_client=openai_client,\n",
    "    model=\"gpt-4.1\",\n",
    "    messages=message_history,\n",
    "    response_format=AllAnswers,\n",
    "    llm_usage=llm_usage\n",
    ")\n",
    "\n",
    "print(f\"Tokens used: {await llm_usage.get_tokens_used()}\")\n",
    "print(f\"Total cost: ${await llm_usage.get_cost()}\")"
   ]
  },
  {
   "cell_type": "code",
   "execution_count": 10,
   "metadata": {},
   "outputs": [],
   "source": [
    "structured_question_answers_response = formatted_response.choices[0].message.parsed"
   ]
  },
  {
   "cell_type": "code",
   "execution_count": 11,
   "metadata": {},
   "outputs": [
    {
     "name": "stdout",
     "output_type": "stream",
     "text": [
      "Question 1: Where is the magical neighborhood of Eldergrove located?\n",
      "Answer: It is hidden in the bustling heart of New York City, concealed behind an ancient oak in Central Park.\n",
      "Cited Text: ['In the bustling heart of New York City, hidden from ordinary eyes, lay the enchanting neighborhood of Eldergrove, concealed behind an ancient oak in Central Park.']\n",
      "\n",
      "\n",
      "Question 2: How did Maya Torres discover she had magical abilities?\n",
      "Answer: She discovered her magical abilities when she confronted Elias Grimwald atop the Empire State Building and, drawing on her grandmother’s legacy, unleashed powerful magic she never knew she possessed.\n",
      "Cited Text: ['Drawing courage from the legacy of her grandmother, Maya unleashed powerful magic she never knew she possessed, binding Elias and securing the Heartstone.']\n",
      "\n",
      "\n",
      "Question 3: Who is Professor Isadora Finch, and what is her role in Eldergrove?\n",
      "Answer: She is the wise sorcerer who guards the shimmering gateway to Eldergrove and serves as Maya’s mentor, guiding and protecting new magical arrivals.\n",
      "Cited Text: ['Only those with magical sight could see the shimmering gateway, guarded by the wise sorcerer, Professor Isadora Finch.', \"Professor Finch greeted Maya warmly, revealing that her grandmother had once been a powerful magician and it was now Maya's turn to embrace her destiny.\"]\n",
      "\n",
      "\n",
      "Question 4: List three real NYC landmarks that were mentioned in the story as having magical significance.\n",
      "Answer: Statue of Liberty; Brooklyn Bridge; Grand Central Terminal.\n",
      "Cited Text: ['…from enchanted riddles at the Statue of Liberty to secret spells beneath the Brooklyn Bridge.', 'After a thrilling chase through the underground tunnels of Grand Central Terminal, Maya confronted Elias atop the Empire State Building.']\n",
      "\n",
      "\n"
     ]
    }
   ],
   "source": [
    "for question_number, answer_object in enumerate(structured_question_answers_response.answers_list):\n",
    "    print(f\"Question {question_number + 1}: {answer_object.question}\")\n",
    "    print(f\"Answer: {answer_object.answer}\")\n",
    "    print(f\"Cited Text: {answer_object.cited_text}\")\n",
    "    print(\"\\n\")"
   ]
  }
 ],
 "metadata": {
  "kernelspec": {
   "display_name": ".venv",
   "language": "python",
   "name": "python3"
  },
  "language_info": {
   "codemirror_mode": {
    "name": "ipython",
    "version": 3
   },
   "file_extension": ".py",
   "mimetype": "text/x-python",
   "name": "python",
   "nbconvert_exporter": "python",
   "pygments_lexer": "ipython3",
   "version": "3.13.3"
  }
 },
 "nbformat": 4,
 "nbformat_minor": 2
}
